{
 "cells": [
  {
   "cell_type": "code",
   "execution_count": 51,
   "metadata": {},
   "outputs": [],
   "source": [
    "import numpy as np\n",
    "import matplotlib.pyplot as plt\n",
    "import pandas as pd\n",
    "import tensorflow as tf"
   ]
  },
  {
   "cell_type": "code",
   "execution_count": 52,
   "metadata": {},
   "outputs": [
    {
     "name": "stdout",
     "output_type": "stream",
     "text": [
      "2.17.0\n"
     ]
    }
   ],
   "source": [
    "print(tf.__version__)"
   ]
  },
  {
   "cell_type": "code",
   "execution_count": 15,
   "metadata": {},
   "outputs": [],
   "source": [
    "from sklearn.preprocessing import LabelEncoder, OneHotEncoder\n",
    "from sklearn.compose import ColumnTransformer"
   ]
  },
  {
   "cell_type": "code",
   "execution_count": 16,
   "metadata": {},
   "outputs": [],
   "source": [
    "from sklearn.model_selection import train_test_split"
   ]
  },
  {
   "cell_type": "code",
   "execution_count": 17,
   "metadata": {},
   "outputs": [],
   "source": [
    "from sklearn.preprocessing import StandardScaler"
   ]
  },
  {
   "cell_type": "code",
   "execution_count": 18,
   "metadata": {},
   "outputs": [],
   "source": [
    "from tensorflow.keras.models import Sequential \n",
    "from tensorflow.keras.layers import Dense"
   ]
  },
  {
   "cell_type": "code",
   "execution_count": 90,
   "metadata": {},
   "outputs": [],
   "source": [
    "from sklearn.metrics import confusion_matrix"
   ]
  },
  {
   "cell_type": "code",
   "execution_count": 19,
   "metadata": {},
   "outputs": [],
   "source": [
    "dataset = pd.read_csv('data/Real_Health.csv')"
   ]
  },
  {
   "cell_type": "code",
   "execution_count": 20,
   "metadata": {},
   "outputs": [
    {
     "data": {
      "text/plain": [
       "Index(['Unnamed: 0', 'Country', 'Disease Name', 'Disease Category',\n",
       "       'Treatment Type', 'Availability of Vaccines/Treatment', 'Age Group',\n",
       "       'Gender', 'Year', 'Prevalence Rate (%)', 'Incidence Rate (%)',\n",
       "       'Population Affected', 'Healthcare Access (%)', 'Doctors per 1000',\n",
       "       'Hospital Beds per 1000', 'Average Treatment Cost (USD)',\n",
       "       'Recovery Rate (%)', 'DALYs', 'Improvement in 5 Years (%)',\n",
       "       'Per Capita Income (USD)', 'Education Index', 'Urbanization Rate (%)',\n",
       "       'Mortality Rate (%)'],\n",
       "      dtype='object')"
      ]
     },
     "execution_count": 20,
     "metadata": {},
     "output_type": "execute_result"
    }
   ],
   "source": [
    "dataset.columns"
   ]
  },
  {
   "cell_type": "code",
   "execution_count": 21,
   "metadata": {},
   "outputs": [],
   "source": [
    "dataset = dataset.dropna()"
   ]
  },
  {
   "cell_type": "code",
   "execution_count": 28,
   "metadata": {},
   "outputs": [],
   "source": [
    "X = dataset.iloc[:, 7:21].values\n",
    "y = dataset.iloc[:, 21].values"
   ]
  },
  {
   "cell_type": "code",
   "execution_count": 60,
   "metadata": {},
   "outputs": [],
   "source": [
    "X = X[: , 1:]"
   ]
  },
  {
   "cell_type": "code",
   "execution_count": 61,
   "metadata": {},
   "outputs": [],
   "source": [
    "X_train, X_test, y_train, y_test = train_test_split(X, y, test_size = 0.2, random_state = 0)"
   ]
  },
  {
   "cell_type": "code",
   "execution_count": 62,
   "metadata": {},
   "outputs": [],
   "source": [
    "sc = StandardScaler()\n",
    "X_train = sc.fit_transform(X_train)\n",
    "X_test = sc.transform(X_test)"
   ]
  },
  {
   "cell_type": "code",
   "execution_count": 63,
   "metadata": {},
   "outputs": [],
   "source": [
    "classifier1 = Sequential()"
   ]
  },
  {
   "cell_type": "code",
   "execution_count": 74,
   "metadata": {},
   "outputs": [],
   "source": [
    "X_train = tf.reshape(X_train, (-1, 13))"
   ]
  },
  {
   "cell_type": "code",
   "execution_count": 86,
   "metadata": {},
   "outputs": [
    {
     "name": "stderr",
     "output_type": "stream",
     "text": [
      "C:\\Users\\RMeehan\\AppData\\Roaming\\Python\\Python311\\site-packages\\keras\\src\\layers\\core\\dense.py:87: UserWarning: Do not pass an `input_shape`/`input_dim` argument to a layer. When using Sequential models, prefer using an `Input(shape)` object as the first layer in the model instead.\n",
      "  super().__init__(activity_regularizer=activity_regularizer, **kwargs)\n"
     ]
    }
   ],
   "source": [
    "classifier1 = tf.keras.Sequential([\n",
    "    Dense(64, activation='relu', input_shape=(13,)),  # Adjust the input shape to (13,)\n",
    "    Dense(32, activation='relu'),\n",
    "    Dense(1, activation='sigmoid')  # For binary classification\n",
    "])"
   ]
  },
  {
   "cell_type": "code",
   "execution_count": 87,
   "metadata": {},
   "outputs": [],
   "source": [
    "classifier1.compile(optimizer = 'adam', loss = 'binary_crossentropy', metrics = ['accuracy'])"
   ]
  },
  {
   "cell_type": "code",
   "execution_count": 88,
   "metadata": {},
   "outputs": [
    {
     "name": "stdout",
     "output_type": "stream",
     "text": [
      "Epoch 1/5\n",
      "\u001b[1m25000/25000\u001b[0m \u001b[32m━━━━━━━━━━━━━━━━━━━━\u001b[0m\u001b[37m\u001b[0m \u001b[1m18s\u001b[0m 667us/step - accuracy: 0.0000e+00 - loss: -260742048.0000\n",
      "Epoch 2/5\n",
      "\u001b[1m25000/25000\u001b[0m \u001b[32m━━━━━━━━━━━━━━━━━━━━\u001b[0m\u001b[37m\u001b[0m \u001b[1m18s\u001b[0m 729us/step - accuracy: 0.0000e+00 - loss: -6320489984.0000\n",
      "Epoch 3/5\n",
      "\u001b[1m25000/25000\u001b[0m \u001b[32m━━━━━━━━━━━━━━━━━━━━\u001b[0m\u001b[37m\u001b[0m \u001b[1m20s\u001b[0m 779us/step - accuracy: 0.0000e+00 - loss: -29485166592.0000\n",
      "Epoch 4/5\n",
      "\u001b[1m25000/25000\u001b[0m \u001b[32m━━━━━━━━━━━━━━━━━━━━\u001b[0m\u001b[37m\u001b[0m \u001b[1m20s\u001b[0m 783us/step - accuracy: 0.0000e+00 - loss: -80790085632.0000\n",
      "Epoch 5/5\n",
      "\u001b[1m25000/25000\u001b[0m \u001b[32m━━━━━━━━━━━━━━━━━━━━\u001b[0m\u001b[37m\u001b[0m \u001b[1m20s\u001b[0m 780us/step - accuracy: 0.0000e+00 - loss: -171116494848.0000\n"
     ]
    },
    {
     "data": {
      "text/plain": [
       "<keras.src.callbacks.history.History at 0x1826e5fe590>"
      ]
     },
     "execution_count": 88,
     "metadata": {},
     "output_type": "execute_result"
    }
   ],
   "source": [
    "classifier1.fit(tf.expand_dims(X_train, axis=-1), y_train, epochs= 5)"
   ]
  },
  {
   "cell_type": "code",
   "execution_count": 93,
   "metadata": {},
   "outputs": [
    {
     "name": "stdout",
     "output_type": "stream",
     "text": [
      "\u001b[1m6250/6250\u001b[0m \u001b[32m━━━━━━━━━━━━━━━━━━━━\u001b[0m\u001b[37m\u001b[0m \u001b[1m3s\u001b[0m 543us/step\n",
      "[[   0    0    0 ...    0    0    0]\n",
      " [2782    0    0 ...    0    0    0]\n",
      " [2835    0    0 ...    0    0    0]\n",
      " ...\n",
      " [2848    0    0 ...    0    0    0]\n",
      " [2933    0    0 ...    0    0    0]\n",
      " [  13    0    0 ...    0    0    0]]\n"
     ]
    },
    {
     "ename": "ValueError",
     "evalue": "too many values to unpack (expected 4)",
     "output_type": "error",
     "traceback": [
      "\u001b[1;31m---------------------------------------------------------------------------\u001b[0m",
      "\u001b[1;31mValueError\u001b[0m                                Traceback (most recent call last)",
      "Cell \u001b[1;32mIn[93], line 8\u001b[0m\n\u001b[0;32m      6\u001b[0m cm \u001b[38;5;241m=\u001b[39m confusion_matrix(y_test, y_pred)\n\u001b[0;32m      7\u001b[0m \u001b[38;5;28mprint\u001b[39m(cm)\n\u001b[1;32m----> 8\u001b[0m tn, fp, fn, tp \u001b[38;5;241m=\u001b[39m cm\u001b[38;5;241m.\u001b[39mravel()\n\u001b[0;32m      9\u001b[0m accuracy \u001b[38;5;241m=\u001b[39m (tn \u001b[38;5;241m+\u001b[39m tp) \u001b[38;5;241m/\u001b[39m (tn \u001b[38;5;241m+\u001b[39m tp \u001b[38;5;241m+\u001b[39m fn \u001b[38;5;241m+\u001b[39m fp)\n\u001b[0;32m     10\u001b[0m \u001b[38;5;28mprint\u001b[39m(accuracy)\n",
      "\u001b[1;31mValueError\u001b[0m: too many values to unpack (expected 4)"
     ]
    }
   ],
   "source": [
    "y_pred = classifier1.predict(X_test)\n",
    "y_pred = (y_pred > 0.5).astype(int)\n",
    "y_test = y_test.astype(int)\n",
    "y_pred = y_pred.flatten()\n",
    "y_test = y_test.flatten()\n",
    "cm = confusion_matrix(y_test, y_pred)\n",
    "print(cm)\n",
    "tn, fp, fn, tp = cm.ravel()\n",
    "accuracy = (tn + tp) / (tn + tp + fn + fp)\n",
    "print(accuracy)"
   ]
  },
  {
   "cell_type": "code",
   "execution_count": null,
   "metadata": {},
   "outputs": [],
   "source": [
    "patient = [[0, 0, 1, 0, 619, 42, 2, 5000, 1, 1, 0, 50700, 32, 45555, 0, 12, 17, 80, 43213]]\n",
    "patient = sc.transform(patient)\n",
    "new_prediction = classifier1.predict(patient)\n",
    "print(new_prediction)"
   ]
  }
 ],
 "metadata": {
  "kernelspec": {
   "display_name": "base",
   "language": "python",
   "name": "python3"
  },
  "language_info": {
   "codemirror_mode": {
    "name": "ipython",
    "version": 3
   },
   "file_extension": ".py",
   "mimetype": "text/x-python",
   "name": "python",
   "nbconvert_exporter": "python",
   "pygments_lexer": "ipython3",
   "version": "3.11.5"
  }
 },
 "nbformat": 4,
 "nbformat_minor": 2
}
